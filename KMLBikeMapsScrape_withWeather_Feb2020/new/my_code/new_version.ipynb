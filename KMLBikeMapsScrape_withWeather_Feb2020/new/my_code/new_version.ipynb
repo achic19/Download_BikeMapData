{
 "cells": [
  {
   "cell_type": "code",
   "execution_count": 6,
   "outputs": [],
   "source": [
    "from urllib.request import urlopen\n",
    "import json\n",
    "import geopandas as gpd\n",
    "import pandas as pd\n",
    "import pickle\n",
    "import osmnx as ox\n",
    "\n",
    "listOfURLs = [\"https://bikemaps.org/incidents-only.json\", \"https://bikemaps.org/hazards.json\",\n",
    "              \"https://bikemaps.org/thefts.json\"]\n",
    "names = ['incidents','hazards','thefts']\n",
    "data= []\n"
   ],
   "metadata": {
    "collapsed": false,
    "pycharm": {
     "name": "#%%\n"
    }
   }
  },
  {
   "cell_type": "code",
   "execution_count": null,
   "outputs": [],
   "source": [
    "# Select area\n",
    "county_name= \"Santa Barbara County\"\n",
    "state_name = 'California'\n",
    "county_polygon = ox.geocode_to_gdf(county_name + \", \" + state_name)\n"
   ],
   "metadata": {
    "collapsed": false,
    "pycharm": {
     "name": "#%%\n"
    }
   }
  },
  {
   "cell_type": "code",
   "execution_count": null,
   "outputs": [],
   "source": [
    "# Read the data from the URL into data list\n",
    "for url in listOfURLs:\n",
    "    print(url)\n",
    "    # Open the website\n",
    "    response  =urlopen(url)\n",
    "    # Grab the data from the website\n",
    "    data.append(json.loads(response.read()))"
   ],
   "metadata": {
    "collapsed": false,
    "pycharm": {
     "name": "#%%\n"
    }
   }
  },
  {
   "cell_type": "code",
   "execution_count": null,
   "outputs": [],
   "source": [
    "# Load from the file\n",
    "with open('data.pkl', 'rb') as f:\n",
    "    data= pickle.load(f)"
   ],
   "metadata": {
    "collapsed": false,
    "pycharm": {
     "name": "#%%\n"
    }
   }
  },
  {
   "cell_type": "code",
   "execution_count": 17,
   "outputs": [
    {
     "name": "stdout",
     "output_type": "stream",
     "text": [
      "incidents\n",
      "create new geo dataframe with the properties\n",
      "get the geometry\n",
      "get x and y\n",
      "create new geometry\n",
      "clip the data by the selected area\n",
      "hazards\n",
      "create new geo dataframe with the properties\n",
      "get the geometry\n",
      "get x and y\n",
      "create new geometry\n",
      "clip the data by the selected area\n",
      "thefts\n",
      "create new geo dataframe with the properties\n",
      "get the geometry\n",
      "get x and y\n",
      "create new geometry\n",
      "clip the data by the selected area\n"
     ]
    }
   ],
   "source": [
    "dfs = []\n",
    "# convert the json data into sheet in Excel\n",
    "for n,temp in enumerate(data):\n",
    "    print(names[n])\n",
    "    print('create new geo dataframe with the properties')\n",
    "    data_0 = gpd.GeoDataFrame(temp['features'])\n",
    "    my_nd =  gpd.GeoDataFrame(data_0['properties'].apply(pd.Series))\n",
    "    print('get the geometry')\n",
    "    print('get x and y')\n",
    "    my_nd['x'] = data_0['geometry'].apply(lambda x: x['coordinates'][0])\n",
    "    my_nd['y'] = data_0['geometry'].apply(lambda x: x['coordinates'][1])\n",
    "    print('create new geometry')\n",
    "    my_nd.geometry = gpd.points_from_xy(my_nd['x'], my_nd['y'])\n",
    "    # save the results\n",
    "    my_nd.crs = 'EPSG:4326'\n",
    "    print('clip the data by the selected area')\n",
    "    points_within_county = gpd.clip(my_nd, county_polygon)\n",
    "    dfs.append(points_within_county)\n",
    "\n",
    "    # data.append(json.loads(response.read()))\n",
    "with pd.ExcelWriter(f'{county_name}.xlsx') as writer:\n",
    "    for n in range(3):\n",
    "        # Write the DataFrames to separate sheets\n",
    "        dfs[n].to_excel(writer, sheet_name=names[n], index=False)"
   ],
   "metadata": {
    "collapsed": false,
    "pycharm": {
     "name": "#%%\n"
    }
   }
  },
  {
   "cell_type": "markdown",
   "source": [
    "<span style=\"color: yellow;font-size: 25px\">TEST AREA</span>"
   ],
   "metadata": {
    "collapsed": false,
    "pycharm": {
     "name": "#%% md\n"
    }
   }
  },
  {
   "cell_type": "code",
   "execution_count": 15,
   "outputs": [],
   "source": [
    "\n",
    "\n",
    "# The variable you want to save\n",
    "\n",
    "\n",
    "# Save to a file\n",
    "with open('data.pkl', 'wb') as f:\n",
    "    pickle.dump(data, f)\n",
    "\n",
    "# Load from the file\n",
    "with open('data.pkl', 'rb') as f:\n",
    "    data= pickle.load(f)"
   ],
   "metadata": {
    "collapsed": false,
    "pycharm": {
     "name": "#%%\n"
    }
   }
  }
 ],
 "metadata": {
  "kernelspec": {
   "display_name": "Python 3",
   "language": "python",
   "name": "python3"
  },
  "language_info": {
   "codemirror_mode": {
    "name": "ipython",
    "version": 2
   },
   "file_extension": ".py",
   "mimetype": "text/x-python",
   "name": "python",
   "nbconvert_exporter": "python",
   "pygments_lexer": "ipython2",
   "version": "2.7.6"
  }
 },
 "nbformat": 4,
 "nbformat_minor": 0
}