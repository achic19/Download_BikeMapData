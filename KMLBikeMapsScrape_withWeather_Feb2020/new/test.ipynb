{
 "cells": [
  {
   "cell_type": "code",
   "execution_count": 1,
   "outputs": [
    {
     "data": {
      "text/plain": "FileUpload(value={}, description='Upload')",
      "application/vnd.jupyter.widget-view+json": {
       "version_major": 2,
       "version_minor": 0,
       "model_id": "a1df6d0846cb4138a802844139b54510"
      }
     },
     "metadata": {},
     "output_type": "display_data"
    }
   ],
   "source": [
    "from IPython.display import display\n",
    "import ipywidgets as widgets\n",
    "from io import BytesIO\n",
    "import pandas as pd\n",
    "\n",
    "# Create a file upload widget\n",
    "upload = widgets.FileUpload()\n",
    "\n",
    "# Display the file upload widget\n",
    "display(upload)\n",
    "\n",
    "# Function to handle the file upload and perform calculations\n",
    "def handle_upload(change):\n",
    "    uploaded_file = upload.value\n",
    "    if uploaded_file:\n",
    "        # Read the uploaded file using Pandas\n",
    "        df = pd.read_csv(BytesIO(uploaded_file[0]['content']))\n",
    "\n",
    "        # Perform calculations on the data\n",
    "        # Here, we calculate the sum of a column\n",
    "        column_sum = df['Column1'].sum()\n",
    "\n",
    "        # Display the result\n",
    "        print(\"Sum of 'Column1':\", column_sum)\n",
    "\n",
    "# Register the upload widget's event handler\n",
    "upload.observe(handle_upload, names='value')"
   ],
   "metadata": {
    "collapsed": false,
    "pycharm": {
     "name": "#%%\n"
    }
   }
  },
  {
   "cell_type": "code",
   "execution_count": null,
   "outputs": [],
   "source": [],
   "metadata": {
    "collapsed": false,
    "pycharm": {
     "name": "#%%\n"
    }
   }
  }
 ],
 "metadata": {
  "kernelspec": {
   "display_name": "Python 3",
   "language": "python",
   "name": "python3"
  },
  "language_info": {
   "codemirror_mode": {
    "name": "ipython",
    "version": 2
   },
   "file_extension": ".py",
   "mimetype": "text/x-python",
   "name": "python",
   "nbconvert_exporter": "python",
   "pygments_lexer": "ipython2",
   "version": "2.7.6"
  }
 },
 "nbformat": 4,
 "nbformat_minor": 0
}